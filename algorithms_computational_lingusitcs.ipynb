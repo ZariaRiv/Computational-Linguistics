{
 "cells": [
  {
   "cell_type": "markdown",
   "metadata": {},
   "source": [
    "### edit distance"
   ]
  },
  {
   "cell_type": "code",
   "execution_count": 280,
   "metadata": {},
   "outputs": [],
   "source": [
    "import numpy as np\n",
    "\n",
    "def edit_distance(source, target, verbose=0, substitution_cost=1):\n",
    "    source = \"#\" + source\n",
    "    target = \"#\" + target\n",
    "    graph = np.zeros((len(source), len(target)))\n",
    "    graph[:, 0] = range(graph.shape[0])\n",
    "    graph[0, :] = range(graph.shape[1])\n",
    "    if verbose==1:\n",
    "        print(graph)\n",
    "\n",
    "    for i in range(1, len(source)):\n",
    "        for j in range(1, len(target)):\n",
    "            if source[i] != target[j]:\n",
    "                if substitution_cost==1:\n",
    "                    possible_values = np.asarray([graph[i-1, j], graph[i-1, j-1], graph[i, j-1]])\n",
    "                elif substitution_cost==2:\n",
    "                    possible_values = np.asarray([graph[i-1, j], graph[i, j-1]])\n",
    "                graph[i, j] = 1 + np.min(possible_values)\n",
    "            else:\n",
    "                graph[i, j] = graph[i-1, j-1]\n",
    "\n",
    "            if verbose==1:\n",
    "                print(graph)\n",
    "    return graph, int(graph[graph.shape[0]-1, graph.shape[1]-1])"
   ]
  },
  {
   "cell_type": "code",
   "execution_count": 281,
   "metadata": {},
   "outputs": [
    {
     "data": {
      "text/plain": [
       "array([[0., 1., 2., 3., 4., 5., 6., 7., 8., 9.],\n",
       "       [1., 1., 2., 3., 4., 5., 6., 6., 7., 8.],\n",
       "       [2., 2., 2., 3., 4., 5., 6., 7., 7., 7.],\n",
       "       [3., 3., 3., 3., 4., 5., 5., 6., 7., 8.],\n",
       "       [4., 3., 4., 3., 4., 5., 6., 6., 7., 8.],\n",
       "       [5., 4., 4., 4., 4., 5., 6., 7., 7., 7.],\n",
       "       [6., 5., 5., 5., 5., 5., 5., 6., 7., 8.],\n",
       "       [7., 6., 6., 6., 6., 6., 6., 5., 6., 7.],\n",
       "       [8., 7., 7., 7., 7., 7., 7., 6., 5., 6.],\n",
       "       [9., 8., 8., 8., 8., 8., 8., 7., 6., 5.]])"
      ]
     },
     "execution_count": 281,
     "metadata": {},
     "output_type": "execute_result"
    }
   ],
   "source": [
    "graph, min_edit_distance = edit_distance(\"intention\", \"execution\", verbose=0, substitution_cost=1)\n",
    "graph"
   ]
  },
  {
   "cell_type": "code",
   "execution_count": 282,
   "metadata": {},
   "outputs": [
    {
     "data": {
      "text/plain": [
       "(array([[0., 1., 2., 3., 4., 5., 6., 7., 8.],\n",
       "        [1., 0., 1., 2., 3., 4., 5., 6., 7.],\n",
       "        [2., 1., 1., 2., 3., 3., 4., 5., 6.],\n",
       "        [3., 2., 2., 1., 2., 3., 4., 5., 6.],\n",
       "        [4., 3., 3., 2., 1., 2., 3., 4., 5.],\n",
       "        [5., 4., 4., 3., 2., 2., 2., 3., 4.],\n",
       "        [6., 5., 5., 4., 3., 3., 3., 2., 3.],\n",
       "        [7., 6., 6., 5., 4., 4., 4., 3., 2.]]),\n",
       " 2)"
      ]
     },
     "execution_count": 282,
     "metadata": {},
     "output_type": "execute_result"
    }
   ],
   "source": [
    "edit_distance(\"glowing\", \"growling\", verbose=0, substitution_cost=1)"
   ]
  },
  {
   "cell_type": "code",
   "execution_count": 283,
   "metadata": {},
   "outputs": [
    {
     "data": {
      "text/plain": [
       "(array([[0., 1., 2., 3.],\n",
       "        [1., 0., 1., 2.],\n",
       "        [2., 1., 1., 1.],\n",
       "        [3., 2., 1., 2.],\n",
       "        [4., 3., 2., 2.]]),\n",
       " 2)"
      ]
     },
     "execution_count": 283,
     "metadata": {},
     "output_type": "execute_result"
    }
   ],
   "source": [
    "edit_distance(\"glad\", \"gal\")"
   ]
  },
  {
   "attachments": {},
   "cell_type": "markdown",
   "metadata": {},
   "source": [
    "### CKY parser"
   ]
  },
  {
   "cell_type": "code",
   "execution_count": 284,
   "metadata": {},
   "outputs": [],
   "source": [
    "def cky_parser(string, grammar):\n",
    "    table = np.zeros((len(string), len(string))).astype('str')\n",
    "    table[:] = \"\"    \n",
    "# Filling in the table \n",
    "    for j in range(0, len(table)): \n",
    "\n",
    "        # Iterate over the rules \n",
    "        for lhs, rule in grammar.items(): \n",
    "            for rhs in rule: \n",
    "                \n",
    "                # If a terminal is found \n",
    "                if len(rhs) == 1 and rhs[0] == string[j]: \n",
    "                    table[j][j] += lhs\n",
    "        # print(table)\n",
    "\n",
    "        for i in range(j, -1, -1):    \n",
    "            \n",
    "            # Iterate over the range i to j + 1    \n",
    "            for k in range(i, j + 1):      \n",
    "\n",
    "                # Iterate over the rules \n",
    "                for lhs, rule in grammar.items(): \n",
    "                    for rhs in rule: \n",
    "                        # If a terminal is found \n",
    "                        if (k+1) < len(string):\n",
    "                            if len(rhs) == 2 and rhs[0] in table[i][k] and rhs[1] in table[k+1][j]:\n",
    "                                if lhs not in table[i][j]: \n",
    "                                    table[i][j] += lhs\n",
    "                        else:\n",
    "                            pass\n",
    "\n",
    "    table = np.where(table==\"\", \".\", table)\n",
    "\n",
    "    for row in range(len(table)):\n",
    "        for col in range(table.shape[1]):\n",
    "            print(table[row][col], end=\"\\t\\t\")\n",
    "        print()\n",
    "\n",
    "    if \"S\" in table[0][len(string)-1]:\n",
    "        print(\"The string is VALID under the given grammar!\")\n",
    "        return table, True\n",
    "    else:\n",
    "        print(\"The string is INVALID under the given grammar!\")\n",
    "        return table, False"
   ]
  },
  {
   "cell_type": "code",
   "execution_count": 285,
   "metadata": {},
   "outputs": [
    {
     "name": "stdout",
     "output_type": "stream",
     "text": [
      "B\t\tC\t\t.\t\t.\t\t.\t\t.\t\t\n",
      ".\t\tB\t\t.\t\t.\t\t.\t\t.\t\t\n",
      ".\t\t.\t\t.\t\t.\t\t.\t\t.\t\t\n",
      ".\t\t.\t\t.\t\tC\t\tBC\t\tSAC\t\t\n",
      ".\t\t.\t\t.\t\t.\t\tC\t\tA\t\t\n",
      ".\t\t.\t\t.\t\t.\t\t.\t\tB\t\t\n",
      "The string is INVALID under the given grammar!\n",
      "\n"
     ]
    }
   ],
   "source": [
    "# print(cky_parser(\"abba\", grammar))\n",
    "grammar2 = {\"S\": [\"AB\", \"AA\", \"CA\"], \"A\": [\"AB\", \"CB\", \"d\", \"q\"], \"B\": [\"BA\", \"CC\", \"c\", \"k\"],\n",
    "            \"C\": [\"AA\", \"BB\", \"CC\", \"a\", \"p\"]}\n",
    "cky_parser(\"kkbapc\", grammar2)\n",
    "print()"
   ]
  },
  {
   "cell_type": "code",
   "execution_count": 286,
   "metadata": {},
   "outputs": [
    {
     "name": "stdout",
     "output_type": "stream",
     "text": [
      "B\t\tC\t\tSC\t\tSCA\t\t\n",
      ".\t\tAB\t\tAC\t\tSBCA\t\t\n",
      ".\t\t.\t\tA\t\tSB\t\t\n",
      ".\t\t.\t\t.\t\tBC\t\t\n",
      "The string is VALID under the given grammar!\n",
      "\n"
     ]
    }
   ],
   "source": [
    "# QUIZ 6 --- LAST EXERCISE\n",
    "grammar = {\"S\": [\"AB\", \"BC\", \"CC\"], \"A\": [\"CB\", \"AA\", \"l\", \"i\"], \n",
    "           \"B\": [\"AB\", \"l\", \"f\", \"p\"], \"C\": [\"BB\", \"BA\", \"p\"]}\n",
    "cky_parser(\"flip\", grammar)\n",
    "print()"
   ]
  },
  {
   "cell_type": "code",
   "execution_count": 287,
   "metadata": {},
   "outputs": [
    {
     "name": "stdout",
     "output_type": "stream",
     "text": [
      "AC\t\tSC\t\t.\t\t.\t\t\n",
      ".\t\tB\t\t.\t\tA\t\t\n",
      ".\t\t.\t\tB\t\tSA\t\t\n",
      ".\t\t.\t\t.\t\tAC\t\t\n",
      "The string is INVALID under the given grammar!\n",
      "\n"
     ]
    }
   ],
   "source": [
    "grammar = ({\"S\": [\"AB\", \"BC\"], \"A\": [\"BA\", \"a\"], \"B\": [\"CC\", \"b\"], \n",
    "            \"C\": [\"AB\", \"a\"]})\n",
    "cky_parser(\"abba\", grammar),\n",
    "print()"
   ]
  },
  {
   "cell_type": "code",
   "execution_count": 288,
   "metadata": {},
   "outputs": [
    {
     "name": "stdout",
     "output_type": "stream",
     "text": [
      "BC\t\tSAB\t\tSABC\t\tSABC\t\tSABC\t\t\n",
      ".\t\tBC\t\tAC\t\tSBAC\t\tSABC\t\t\n",
      ".\t\t.\t\tAB\t\tSC\t\tSAC\t\t\n",
      ".\t\t.\t\t.\t\tB\t\tAC\t\t\n",
      ".\t\t.\t\t.\t\t.\t\tAB\t\t\n",
      "The string is VALID under the given grammar!\n",
      "\n"
     ]
    }
   ],
   "source": [
    "grammar = {\"S\": [\"AB\", \"BC\", \"CC\"], \"A\": [\"BA\", \"CB\", \"w\", \"x\"],\n",
    "           \"B\": [\"CC\", \"x\", \"y\", \"z\"], \"C\": [\"AB\", \"BA\", \"AA\", \"y\"]}\n",
    "cky_parser(\"yyxzx\", grammar)\n",
    "print()"
   ]
  },
  {
   "cell_type": "code",
   "execution_count": 289,
   "metadata": {},
   "outputs": [
    {
     "name": "stdout",
     "output_type": "stream",
     "text": [
      "AB\t\tSBC\t\t.\t\t.\t\t\n",
      ".\t\tAC\t\t.\t\t.\t\t\n",
      ".\t\t.\t\t.\t\t.\t\t\n",
      ".\t\t.\t\t.\t\tB\t\t\n",
      "The string is INVALID under the given grammar!\n",
      "-------------------------------------------------\n",
      "AB\t\tSBC\t\t.\t\t.\t\t\n",
      ".\t\tAC\t\t.\t\t.\t\t\n",
      ".\t\t.\t\t.\t\t.\t\t\n",
      ".\t\t.\t\t.\t\tB\t\t\n",
      "The string is INVALID under the given grammar!\n",
      "\n"
     ]
    }
   ],
   "source": [
    "grammar = {\"S\": [\"AC\", \"BA\", \"A\"], \"A\": [\"Aa\", \"CC\", \"x\", \"y\"], \"B\": [\"BA\", \"CA\", \"x\", \"z\"], \"C\": [\"AA\", \"AB\", \"BB\", \"y\"], \"x\": [\"A\"]}\n",
    "cky_parser(\"xyaz\", grammar)\n",
    "print(\"-------------------------------------------------\")\n",
    "\n",
    "# mistakes:\n",
    "# x --> A not in CNF\n",
    "# A --> Aa | ... not in CNF\n",
    "# output on Canvas cell 0,1 is C,S, should be C,S,B\n",
    "# cells after row 2 should be empty, except for right corner\n",
    "\n",
    "# CORRECT GRAMMAR\n",
    "grammar = {\"S\": [\"AC\", \"BA\", \"A\"], \"A\": [\"CC\", \"x\", \"y\"], \"B\": [\"BA\", \"CA\", \"x\", \"z\"], \"C\": [\"AA\", \"AB\", \"BB\", \"y\"]}\n",
    "cky_parser(\"xyaz\", grammar)\n",
    "print()"
   ]
  },
  {
   "cell_type": "code",
   "execution_count": 290,
   "metadata": {},
   "outputs": [
    {
     "name": "stdout",
     "output_type": "stream",
     "text": [
      "B\t\tC\t\t.\t\t.\t\t.\t\t.\t\t\n",
      ".\t\tB\t\t.\t\t.\t\t.\t\t.\t\t\n",
      ".\t\t.\t\t.\t\t.\t\t.\t\t.\t\t\n",
      ".\t\t.\t\t.\t\tC\t\tBC\t\tSAC\t\t\n",
      ".\t\t.\t\t.\t\t.\t\tC\t\tA\t\t\n",
      ".\t\t.\t\t.\t\t.\t\t.\t\tB\t\t\n",
      "The string is INVALID under the given grammar!\n",
      "\n"
     ]
    }
   ],
   "source": [
    "grammar = {\"S\": [\"AB\", \"AA\", \"CA\"], \"A\": [\"AB\", \"CB\", \"d\", \"q\"], \"B\": [\"BA\", \"CC\", \"c\", \"k\"], \"C\": [\"AA\", \"BB\", \"CC\", \"a\", \"p\"]}\n",
    "cky_parser(\"kkbapc\", grammar)\n",
    "print()"
   ]
  },
  {
   "attachments": {},
   "cell_type": "markdown",
   "metadata": {},
   "source": [
    "### Viterbi algorithm"
   ]
  },
  {
   "cell_type": "code",
   "execution_count": 291,
   "metadata": {},
   "outputs": [
    {
     "name": "stdout",
     "output_type": "stream",
     "text": [
      "0.0\t\t0.0\t\t0.112\t\t0.0\t\t0.0\t\t0.0\t\t\n",
      "0.8\t\t0.8\t\t0.0\t\t0.056\t\t0.0\t\t0.0\t\t\n",
      "0.1\t\t0.01\t\t0.28\t\t0.0056\t\t0.01568\t\t0.001568\t\t\n",
      "0.1\t\t0.0\t\t0.0\t\t0.0\t\t0.03528\t\t0.0\t\t\n",
      "0.0\t\t0.0\t\t0.0\t\t0.0\t\t0.0196\t\t0.00196\t\t\n",
      "\n",
      "\n",
      "Solution: BOS ---> I, x ---> I, w ---> J, y ---> K, EOS ---> L\n",
      "Next ... \n",
      "0.0\t\t0.0\t\t0.008\t\t0.0\t\t0.0\t\t0.0\t\t\n",
      "0.8\t\t0.0\t\t0.0\t\t0.0\t\t0.00216\t\t0.000432\t\t\n",
      "0.1\t\t0.05\t\t0.0\t\t0.0016\t\t0.000216\t\t2.16e-05\t\t\n",
      "0.1\t\t0.0\t\t0.001\t\t0.0036\t\t0.0\t\t0.0\t\t\n",
      "0.0\t\t0.0\t\t0.005\t\t0.002\t\t0.0\t\t0.0\t\t\n",
      "\n",
      "\n",
      "Solution: BOS ---> I, w ---> J, z ---> H, y ---> K, x ---> I, EOS ---> I\n"
     ]
    }
   ],
   "source": [
    "# TRANSITION AND EMISSION MATRIX\n",
    "states = ('BOS', 'H', 'I', 'J', 'K', 'L', 'EOS')\n",
    "observations = ('w', 'x', 'y', 'z')\n",
    "\n",
    "t = {\"BOS\": [0, 0.8, 0.1, 0.1, 0, 0],\n",
    "     \"H\": [0, 0.2, 0.4, 0.2, 0, 0.3],\n",
    "     \"I\": [0.7, 0, 0, 0, 0.1, 0.2],\n",
    "     \"J\": [0.1, 0.2, 0.2, 0.2, 0.2, 0.1],\n",
    "     \"K\": [0.2, 0, 0.6, 0, 0.2, 0],\n",
    "     \"L\": [0, 0.1, 0, 0.8, 0, 0.1]}\n",
    "\n",
    "def create_matrix(t, els):\n",
    "    dic = {}\n",
    "    for i, el in zip(t, els):\n",
    "        dic[el] = i\n",
    "    return dic\n",
    "\n",
    "transformation_matrix = {}\n",
    "for state in states[:-1]:\n",
    "    transformation_matrix[state] = create_matrix(t[state], states[1:])\n",
    "\n",
    "e = {\"H\": [0.2, 0, 0, 0.8], \n",
    "     \"I\": [0, 1, 0, 0],\n",
    "     \"J\": [0.5, 0.1, 0.4, 0],\n",
    "     \"K\": [0, 0, 0.9, 0.1],\n",
    "     \"L\": [0, 0, 0.5, 0.5]}\n",
    "\n",
    "emission_matrix = {}\n",
    "for state in states[1:-1]:\n",
    "    emission_matrix[state] = create_matrix(e[state], observations)\n",
    "\n",
    "def viterbi_algorithm(t, e,  string, bos='BOS', eos='EOS'):\n",
    "\n",
    "    \"\"\"\n",
    "    Implementation of the Viterbi algorithm for PoS tagging\n",
    "\n",
    "    Parameters\n",
    "    ----------\n",
    "    t: transition matrix. Contains the probability of a tag given another tag\n",
    "    e: emission matrix. Contains the probability of a word given a tag\n",
    "    string: input string for which to compute the likeliest sequence of tags. Despite its name, this can also be a list of words representing a \\\n",
    "        sentence\n",
    "    bos: string representation of the BoS symbol. Default is 'BOS'\n",
    "    eos: string representation of the EoS symbol. Default is 'EOS'\n",
    "\n",
    "    Returns\n",
    "    -------\n",
    "    The final matrix containing the final posterior probabilities, and a sequence containing the maximum a posteriori sequence of tags\n",
    "\n",
    "    Notes\n",
    "    -----\n",
    "    In the transition matrix, the first state (i.e., the first key) has to be the BoS state, otherwise the implementation will return a wrong result. \\\n",
    "    The same goes for the EoS symbol, this has to be the last key in the transition matrix. The values in the emission matrix have to correspond to \\\n",
    "    the order in which the observations are given in the emission matrix. For example, if the probabilities for state A are 0, 0.2, and 0.8 and the \\\n",
    "    order of observations in the emission matrix is a, b, c, then 0 has to correspond to a|A, 0.2 to b|A, and 0.8 to c|A. Hence, carefully check the \\\n",
    "    way in which the data is formatted before using the algorithm.\n",
    "    \"\"\"\n",
    "\n",
    "    # column names -- for the columns of the final output matrix\n",
    "    col_names = []\n",
    "\n",
    "    # states (excluding BoS)\n",
    "    states = [key for key in list(t.keys()) if key != bos]\n",
    "\n",
    "    # observations\n",
    "    observations = [key for key in list(e.keys())]\n",
    "\n",
    "    col_names.append(bos) # add BoS symbol to column names\n",
    "    col_names.extend(string) # add individual input elements to column names\n",
    "    col_names.append(eos) # add EoS symbol to column names\n",
    "\n",
    "    # final output matrix -- initialize with zeros\n",
    "    matrix = np.zeros((len(states), len(col_names)))\n",
    "\n",
    "    # for each observation, store observation (key) and add conditional probability of observation given each tag in value (a list)\n",
    "    observation_dict = dict()\n",
    "\n",
    "    for key in list(e.keys()):\n",
    "        for k in list(e[key].keys()):\n",
    "            observation_dict[k] = []\n",
    "    \n",
    "    for key in list(e.keys()):\n",
    "        for k in list(e[key].keys()):\n",
    "            observation_dict[k].append(e[key][k])\n",
    "    \n",
    "    # all conditional probabilities for the BoS state given each state, except EoS (the last state)\n",
    "    bos_values = np.asarray([value for value in list(t[bos].values())[:-1]])\n",
    "\n",
    "    # all conditional probabilities for the EoS state given each state\n",
    "    eos_values = np.asarray([t[state][eos] for state in states])\n",
    "\n",
    "    # add the BoS conditional probability values to the observation-probabilities dictionary, as BoS is also an observation\n",
    "    observation_dict[bos] = bos_values\n",
    "\n",
    "    # make all conditional probability values for the observation an array for easier and faster computation\n",
    "    observation_dict = {key: np.asarray(value) for key, value in observation_dict.items()}\n",
    "\n",
    "    # first column in final output matrix should be the conditional probability values for the BoS state\n",
    "    matrix[:, 0] = bos_values\n",
    "\n",
    "    # select only parts of the transformation matrix necessary for computation for all non-BoS and non-EoS states (so exclude EoS column)\n",
    "    useful_matrix = []\n",
    "\n",
    "    for state in states:\n",
    "        useful_matrix.append([value for value in list(t[state].values())][:-1])\n",
    "\n",
    "    useful_matrix = np.asarray(useful_matrix)\n",
    "\n",
    "    # second column should be first column (i.e., BoS probabilities) multiplied by the column observation probabilities\n",
    "    matrix[:, 1] = matrix[:, 0] * observation_dict[string[0]]\n",
    "\n",
    "    # do the calculations, with the previous column being the trellis\n",
    "    for i in range(1, len(string)):\n",
    "\n",
    "        values = observation_dict[string[i]] # probabilities for symbol we are currently looping over\n",
    "        results = np.zeros((useful_matrix.shape)) # store all multiplication results in an array, intitialize with zeros\n",
    "        trellis = matrix[:, i] # select the trellis -- the previous posterior probabilities\n",
    "\n",
    "        # loop over all rows\n",
    "        for j in range(len(results)):\n",
    "            results[j, :] = trellis[j] * useful_matrix[j, :] # row in resulting matrix should each individual trellis value multiplied by the \n",
    "                                                             # transformation matrix row\n",
    "\n",
    "        max_ = np.max(results) # select maximum value of the results\n",
    "        matrix[:, i+1] = max_ * values # multiply the observation probabilities by this maximum value and store in next column\n",
    "    \n",
    "    # the final values for the EoS observation should be the product of the values of the last non-EoS observation and the values of the EoS observation\n",
    "    matrix[:, -1] = matrix[:, -2] * eos_values\n",
    "\n",
    "    # print matrix values\n",
    "    for i in range(len(matrix)):\n",
    "        for el in matrix[i, :]:\n",
    "            print(round(el, 10), end=\"\\t\\t\")\n",
    "        print()\n",
    "    print(\"\\n\")\n",
    "    \n",
    "    # the final sequence of which state most likely belongs to each observation\n",
    "    sequence = {}\n",
    "    for i, name in enumerate(col_names):\n",
    "        sequence[name] = states[np.argmax(matrix[:, i])]\n",
    "\n",
    "    # print the final sequence\n",
    "    print(\"Solution:\", end=\" \")\n",
    "\n",
    "    for key, value in sequence.items():\n",
    "        if key != eos:\n",
    "            print(f\"{key} ---> {value}\", end=\", \")\n",
    "        else:\n",
    "            print(f\"{key} ---> {value}\")\n",
    "\n",
    "    # return the output matrix and the final sequence\n",
    "    return matrix, sequence\n",
    "\n",
    "results = viterbi_algorithm(transformation_matrix, emission_matrix, string=\"xwxy\")\n",
    "\n",
    "print(\"Next ... \")\n",
    "\n",
    "results2 = viterbi_algorithm(transformation_matrix, emission_matrix, string=\"wzyx\")\n",
    "\n"
   ]
  },
  {
   "cell_type": "code",
   "execution_count": 292,
   "metadata": {},
   "outputs": [
    {
     "name": "stdout",
     "output_type": "stream",
     "text": [
      "0.5\t\t0.5\t\t0.0\t\t0.0\t\t0.04\t\t0.0\t\t0.0\t\t0.0\t\t\n",
      "0.2\t\t0.0\t\t0.0\t\t0.0\t\t0.0\t\t0.0\t\t0.0064\t\t0.00064\t\t\n",
      "0.3\t\t0.0\t\t0.2\t\t0.0\t\t0.0\t\t0.0128\t\t0.00064\t\t0.00032\t\t\n",
      "0.0\t\t0.0\t\t0.04\t\t0.08\t\t0.0\t\t0.0032\t\t0.0\t\t0.0\t\t\n",
      "\n",
      "\n",
      "Solution: BOS ---> Det, the ---> Det, dog ---> Noun, chases ---> Verb, fat ---> Noun, cat ---> Adj, EOS ---> Adj\n",
      "{'BOS': {'Det': 0.5, 'Adj': 0.2, 'Noun': 0.3, 'Verb': 0, 'EOS': 0}, 'Det': {'Det': 0, 'Adj': 0.2, 'Noun': 0.8, 'Verb': 0, 'EOS': 0}, 'Adj': {'Det': 0, 'Adj': 0.3, 'Noun': 0.6, 'Verb': 0, 'EOS': 0.1}, 'Noun': {'Det': 0, 'Adj': 0, 'Noun': 0, 'Verb': 0.5, 'EOS': 0.5}, 'Verb': {'Det': 0.5, 'Adj': 0.2, 'Noun': 0.3, 'Verb': 0, 'EOS': 0}}\n",
      "{'Det': {'dog': 0, 'the': 1, 'chases': 0, 'fat': 0, 'cat': 0}, 'Adj': {'dog': 0, 'the': 0, 'chases': 0, 'fat': 0, 'cat': 1}, 'Noun': {'dog': 0.5, 'the': 0, 'chases': 0, 'fat': 0.4, 'cat': 0.1}, 'Verb': {'dog': 0.1, 'the': 0, 'chases': 0.8, 'fat': 0.1, 'cat': 0}}\n"
     ]
    }
   ],
   "source": [
    "# TRANSFORMATION AND EMISSION MATRIX\n",
    "states = ('BOS', 'Det', 'Adj', 'Noun', 'Verb', 'EOS')\n",
    "observations = ('dog', 'the', 'chases', 'fat', 'cat')\n",
    "\n",
    "t = {\"BOS\": [0.5, 0.2, 0.3, 0, 0],\n",
    "     \"Det\": [0, 0.2, 0.8, 0, 0],\n",
    "     \"Adj\": [0, 0.3, 0.6, 0, 0.1],\n",
    "     \"Noun\": [0, 0, 0, 0.5, 0.5],\n",
    "     \"Verb\": [0.5, 0.2, 0.3, 0, 0]}\n",
    "\n",
    "def create_matrix(t, els):\n",
    "    dic = {}\n",
    "    for i, el in zip(t, els):\n",
    "        dic[el] = i\n",
    "    return dic\n",
    "\n",
    "transformation_matrix = {}\n",
    "for state in states[:-1]:\n",
    "    transformation_matrix[state] = create_matrix(t[state], states[1:])\n",
    "\n",
    "e = {\"Det\": [0, 1, 0, 0, 0],\n",
    "     \"Adj\": [0, 0, 0, 0, 1],\n",
    "     \"Noun\":[0.5, 0, 0, 0.4, 0.1],\n",
    "     \"Verb\": [0.1, 0, 0.8, 0.1, 0]}\n",
    "\n",
    "emission_matrix = {}\n",
    "for state in states[1:-1]:\n",
    "    emission_matrix[state] = create_matrix(e[state], observations)\n",
    "\n",
    "\n",
    "\n",
    "\n",
    "results = viterbi_algorithm(transformation_matrix, emission_matrix, string=[\"the\", \"dog\", \"chases\", \"the\", \"fat\", \"cat\"])\n",
    "\n",
    "print(transformation_matrix)\n",
    "print(emission_matrix)"
   ]
  },
  {
   "cell_type": "code",
   "execution_count": 293,
   "metadata": {},
   "outputs": [
    {
     "name": "stdout",
     "output_type": "stream",
     "text": [
      "0.7\t\t0.56\t\t0.0\t\t0.014336\t\t0.0\t\t\n",
      "0.3\t\t0.03\t\t0.1792\t\t0.0\t\t0.0\t\t\n",
      "0.0\t\t0.0\t\t0.0\t\t0.007168\t\t0.003584\t\t\n",
      "\n",
      "\n",
      "Solution: BOS ---> A, w ---> A, v ---> B, y ---> A, EOS ---> C\n"
     ]
    }
   ],
   "source": [
    "states = ('BOS', 'A', 'B', 'C', 'EOS')\n",
    "observations = ('v', 'w', 'x', 'y', 'z')\n",
    "\n",
    "t = {\"BOS\": [0.7, 0.3, 0, 0],\n",
    "     \"A\": [0, 0.2, 0.8, 0],\n",
    "     \"B\": [0.2, 0.3, 0.4, 0.1],\n",
    "     \"C\": [0.1, 0.2, 0.2, 0.5]}\n",
    "\n",
    "def create_matrix(t, els):\n",
    "    dic = {}\n",
    "    for i, el in zip(t, els):\n",
    "        dic[el] = i\n",
    "    return dic\n",
    "\n",
    "transformation_matrix = {}\n",
    "for state in states[:-1]:\n",
    "    transformation_matrix[state] = create_matrix(t[state], states[1:])\n",
    "\n",
    "e = {\"A\": [0, 0.8, 0, 0.2, 0],\n",
    "     \"B\": [0.4, 0.1, 0.5, 0, 0],\n",
    "     \"C\":[0, 0, 0.3, 0.1, 0.6]}\n",
    "\n",
    "emission_matrix = {}\n",
    "for state in states[1:-1]:\n",
    "    emission_matrix[state] = create_matrix(e[state], observations)\n",
    "\n",
    "\n",
    "\n",
    "\n",
    "results = viterbi_algorithm(transformation_matrix, emission_matrix, string=\"wvy\")"
   ]
  }
 ],
 "metadata": {
  "kernelspec": {
   "display_name": "Python 3",
   "language": "python",
   "name": "python3"
  },
  "language_info": {
   "codemirror_mode": {
    "name": "ipython",
    "version": 3
   },
   "file_extension": ".py",
   "mimetype": "text/x-python",
   "name": "python",
   "nbconvert_exporter": "python",
   "pygments_lexer": "ipython3",
   "version": "3.9.1"
  },
  "orig_nbformat": 4
 },
 "nbformat": 4,
 "nbformat_minor": 2
}
